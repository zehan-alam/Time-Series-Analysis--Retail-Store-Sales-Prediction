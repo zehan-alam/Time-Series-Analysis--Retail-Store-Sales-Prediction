{
 "cells": [
  {
   "cell_type": "markdown",
   "metadata": {},
   "source": [
    "Dataset Link - https://www.kaggle.com/datasets/bekkarmerwan/retail-sales-dataset-sample-transactions\n",
    "\n",
    "Weather data - https://www.visualcrossing.com\n",
    "\n",
    "Holiday data - https://github.com/ynkdir/holiday/blob/master/csv/en.uk%23holiday%40group.v.calendar.google.com"
   ]
  },
  {
   "cell_type": "code",
   "execution_count": 1,
   "metadata": {},
   "outputs": [],
   "source": [
    "import pandas as pd"
   ]
  },
  {
   "cell_type": "markdown",
   "metadata": {},
   "source": [
    "# Retail Store Data"
   ]
  },
  {
   "cell_type": "code",
   "execution_count": 2,
   "metadata": {},
   "outputs": [],
   "source": [
    "sales = pd.read_excel('Datasets/Online Retail Data Set.xlsx')"
   ]
  },
  {
   "cell_type": "code",
   "execution_count": 5,
   "metadata": {},
   "outputs": [],
   "source": [
    "sales = sales[sales['Country']=='United Kingdom'].copy()"
   ]
  },
  {
   "cell_type": "code",
   "execution_count": 7,
   "metadata": {},
   "outputs": [],
   "source": [
    "sales['Revenue'] = sales['UnitPrice']*sales['Quantity']\n",
    "sales = sales.drop(columns=['StockCode', 'Description', 'Quantity','UnitPrice', 'CustomerID'\n",
    "                    ,'Country'])\n",
    "sales = sales[sales['Revenue']>=0]"
   ]
  },
  {
   "cell_type": "code",
   "execution_count": 9,
   "metadata": {},
   "outputs": [
    {
     "data": {
      "text/plain": [
       "InvoiceNo\n",
       "573585    1114\n",
       "581219     749\n",
       "581492     731\n",
       "580729     721\n",
       "558475     705\n",
       "          ... \n",
       "568913       1\n",
       "559314       1\n",
       "552218       1\n",
       "576084       1\n",
       "576547       1\n",
       "Name: count, Length: 20120, dtype: int64"
      ]
     },
     "execution_count": 9,
     "metadata": {},
     "output_type": "execute_result"
    }
   ],
   "source": [
    "sales['InvoiceNo'].value_counts()"
   ]
  },
  {
   "cell_type": "code",
   "execution_count": 6,
   "metadata": {},
   "outputs": [],
   "source": [
    "sales = sales.groupby('InvoiceNo').agg({'Revenue':'sum','InvoiceDate':'mean'}).reset_index().drop(columns='InvoiceNo')"
   ]
  },
  {
   "cell_type": "code",
   "execution_count": 7,
   "metadata": {},
   "outputs": [],
   "source": [
    "sales.to_csv('Datasets/revenue_time_series.csv',index=False)"
   ]
  },
  {
   "cell_type": "markdown",
   "metadata": {},
   "source": [
    "# Weather Data"
   ]
  },
  {
   "cell_type": "code",
   "execution_count": 10,
   "metadata": {},
   "outputs": [
    {
     "name": "stdout",
     "output_type": "stream",
     "text": [
      "<class 'pandas.core.frame.DataFrame'>\n",
      "RangeIndex: 374 entries, 0 to 373\n",
      "Data columns (total 33 columns):\n",
      " #   Column            Non-Null Count  Dtype  \n",
      "---  ------            --------------  -----  \n",
      " 0   name              374 non-null    object \n",
      " 1   datetime          374 non-null    object \n",
      " 2   tempmax           374 non-null    float64\n",
      " 3   tempmin           374 non-null    float64\n",
      " 4   temp              374 non-null    float64\n",
      " 5   feelslikemax      374 non-null    float64\n",
      " 6   feelslikemin      374 non-null    float64\n",
      " 7   feelslike         374 non-null    float64\n",
      " 8   dew               374 non-null    float64\n",
      " 9   humidity          374 non-null    float64\n",
      " 10  precip            374 non-null    float64\n",
      " 11  precipprob        374 non-null    int64  \n",
      " 12  precipcover       374 non-null    float64\n",
      " 13  preciptype        226 non-null    object \n",
      " 14  snow              374 non-null    float64\n",
      " 15  snowdepth         374 non-null    float64\n",
      " 16  windgust          50 non-null     float64\n",
      " 17  windspeed         374 non-null    float64\n",
      " 18  winddir           374 non-null    float64\n",
      " 19  sealevelpressure  374 non-null    float64\n",
      " 20  cloudcover        374 non-null    float64\n",
      " 21  visibility        374 non-null    float64\n",
      " 22  solarradiation    374 non-null    float64\n",
      " 23  solarenergy       374 non-null    float64\n",
      " 24  uvindex           374 non-null    int64  \n",
      " 25  severerisk        0 non-null      float64\n",
      " 26  sunrise           374 non-null    object \n",
      " 27  sunset            374 non-null    object \n",
      " 28  moonphase         374 non-null    float64\n",
      " 29  conditions        374 non-null    object \n",
      " 30  description       374 non-null    object \n",
      " 31  icon              374 non-null    object \n",
      " 32  stations          374 non-null    object \n",
      "dtypes: float64(22), int64(2), object(9)\n",
      "memory usage: 96.5+ KB\n"
     ]
    }
   ],
   "source": [
    "weather = pd.read_csv('Datasets/London,UK 2010-12-01 to 2011-12-09.csv')\n",
    "weather.info()"
   ]
  },
  {
   "cell_type": "code",
   "execution_count": 8,
   "metadata": {},
   "outputs": [],
   "source": [
    "weather = weather[['datetime','temp']].copy()"
   ]
  },
  {
   "cell_type": "code",
   "execution_count": 9,
   "metadata": {},
   "outputs": [],
   "source": [
    "weather.to_csv('Datasets/temp.csv',index=False)"
   ]
  }
 ],
 "metadata": {
  "kernelspec": {
   "display_name": "py_projects",
   "language": "python",
   "name": "python3"
  },
  "language_info": {
   "codemirror_mode": {
    "name": "ipython",
    "version": 3
   },
   "file_extension": ".py",
   "mimetype": "text/x-python",
   "name": "python",
   "nbconvert_exporter": "python",
   "pygments_lexer": "ipython3",
   "version": "3.10.10"
  }
 },
 "nbformat": 4,
 "nbformat_minor": 2
}
